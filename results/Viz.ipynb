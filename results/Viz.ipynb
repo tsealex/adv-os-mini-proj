{
 "cells": [
  {
   "cell_type": "code",
   "execution_count": 38,
   "metadata": {},
   "outputs": [],
   "source": [
    "import plotly\n",
    "import plotly.graph_objs as go\n",
    "import plotly.io as pio"
   ]
  },
  {
   "cell_type": "code",
   "execution_count": 27,
   "metadata": {},
   "outputs": [],
   "source": [
    "import pandas as pd"
   ]
  },
  {
   "cell_type": "code",
   "execution_count": 47,
   "metadata": {},
   "outputs": [],
   "source": [
    "font_sz = 12 "
   ]
  },
  {
   "cell_type": "code",
   "execution_count": 48,
   "metadata": {},
   "outputs": [],
   "source": [
    "cc_mutex_df = pd.read_csv('./cc_mutex.csv')\n"
   ]
  },
  {
   "cell_type": "code",
   "execution_count": 74,
   "metadata": {},
   "outputs": [],
   "source": [
    "def plot_cc_mutex_df(df):\n",
    "    for inc_v in df['inc_per_itr'].unique():\n",
    "        data = []\n",
    "        for spin in (True, False):\n",
    "            p_df = df[(df['inc_per_itr'] == inc_v) & (df['spin'] == spin)]\n",
    "            data.append(go.Bar(\n",
    "                x=p_df['num_threads'],\n",
    "                y=p_df['time'],\n",
    "                name='Mutex' if not spin else 'Spinlock'\n",
    "            ))\n",
    "        layout = go.Layout(\n",
    "            barmode='group',\n",
    "            title=f'Spin-locks vs. Mutexes (Count with {inc_v} incerments per iteration)',\n",
    "            xaxis={\n",
    "                'title': 'Number of Threads',\n",
    "                'type': 'category'\n",
    "            },\n",
    "            yaxis={\n",
    "                'title': 'Time (ms)',\n",
    "#                 'range': [0, max(df['time'])],\n",
    "            },\n",
    "        )\n",
    "        fig = go.Figure(data=data, layout=layout)\n",
    "        plotly.offline.plot(fig, filename=f'cc_mutex_{inc_v}.html', auto_open=True)"
   ]
  },
  {
   "cell_type": "code",
   "execution_count": 75,
   "metadata": {},
   "outputs": [],
   "source": [
    "plot_cc_mutex_df(cc_mutex_df)"
   ]
  },
  {
   "cell_type": "code",
   "execution_count": 69,
   "metadata": {},
   "outputs": [],
   "source": [
    "cc_spinlock_df = pd.read_csv('./cc_spinlock.csv')\n"
   ]
  },
  {
   "cell_type": "code",
   "execution_count": 32,
   "metadata": {},
   "outputs": [],
   "source": [
    "def plot_cc_spinlock_df(df):\n",
    "    for num_counters in df['num_counters'].unique():\n",
    "        data = []\n",
    "        for spin in (True, False):\n",
    "            p_df = df[(df['num_counters'] == num_counters) & (df['spin'] == spin)]\n",
    "            data.append(go.Bar(\n",
    "                x=p_df['num_threads'],\n",
    "                y=p_df['time'],\n",
    "                name='Mutex' if not spin else 'Spinlock'\n",
    "            ))\n",
    "        layout = go.Layout(\n",
    "            barmode='group',\n",
    "            title=f'Spin-locks vs. Mutexes (Count with {num_counters} counters)',\n",
    "            xaxis={\n",
    "                'title': 'Number of Threads',\n",
    "                'type': 'category'\n",
    "            },\n",
    "            yaxis={\n",
    "                'title': 'Time (ms)',\n",
    "#                 'range': [0, max(df['time'])],\n",
    "            },\n",
    "        )\n",
    "        fig = go.Figure(data=data, layout=layout)\n",
    "        plotly.offline.plot(fig, filename=f'cc_spinlock_{num_counters}.html', auto_open=True)"
   ]
  },
  {
   "cell_type": "code",
   "execution_count": 33,
   "metadata": {},
   "outputs": [],
   "source": [
    "plot_cc_spinlock_df(cc_spinlock_df)"
   ]
  },
  {
   "cell_type": "code",
   "execution_count": 85,
   "metadata": {},
   "outputs": [],
   "source": [
    "def plot_fs_default_df(df):\n",
    "    data = []\n",
    "    for direct in (True, False):\n",
    "        p_df = df[df['direct'] == direct]\n",
    "        data.append(go.Bar(x=p_df['num_wr'], y=p_df['time'], name='Direct I/O' if direct else 'Buffered I/O'))\n",
    "    \n",
    "    layout = go.Layout(\n",
    "        barmode='group',\n",
    "        title=f'Direct I/O vs. Buffered I/O (Repeated Write of a File)',\n",
    "        xaxis={\n",
    "            'title': 'Number of Repeated Writes',\n",
    "            'type': 'category'\n",
    "        },\n",
    "        yaxis={\n",
    "            'title': 'Time (ms)',\n",
    "        },\n",
    "    )\n",
    "    fig = go.Figure(data=data, layout=layout)\n",
    "    plotly.offline.plot(fig, filename=f'fs_default.html', auto_open=True)"
   ]
  },
  {
   "cell_type": "code",
   "execution_count": 86,
   "metadata": {},
   "outputs": [],
   "source": [
    "fs_default_df = pd.read_csv('./fs_default.csv')\n",
    "plot_fs_default_df(fs_default_df)"
   ]
  },
  {
   "cell_type": "code",
   "execution_count": 87,
   "metadata": {},
   "outputs": [],
   "source": [
    "def plot_fs_directio_df(df):\n",
    "    data = []\n",
    "    for direct in (True, False):\n",
    "        p_df = df[df['direct'] == direct]\n",
    "        data.append(go.Bar(x=p_df['size'], y=p_df['time'], name='Direct I/O' if direct else 'Buffered I/O'))\n",
    "    \n",
    "    layout = go.Layout(\n",
    "        barmode='group',\n",
    "        title=f'Direct I/O vs. Buffered I/O (Sequential Read of a Large File)',\n",
    "        xaxis={\n",
    "            'title': 'Data Size (MB)',\n",
    "            'type': 'category'\n",
    "        },\n",
    "        yaxis={\n",
    "            'title': 'Time (ms)',\n",
    "        },\n",
    "    )\n",
    "    fig = go.Figure(data=data, layout=layout)\n",
    "    plotly.offline.plot(fig, filename=f'fs_directio.html', auto_open=True)"
   ]
  },
  {
   "cell_type": "code",
   "execution_count": 88,
   "metadata": {},
   "outputs": [],
   "source": [
    "fs_directio_df = pd.read_csv('./fs_directio.csv')\n",
    "plot_fs_directio_df(fs_directio_df)"
   ]
  },
  {
   "cell_type": "code",
   "execution_count": null,
   "metadata": {},
   "outputs": [],
   "source": []
  }
 ],
 "metadata": {
  "kernelspec": {
   "display_name": "Python 3",
   "language": "python",
   "name": "python3"
  },
  "language_info": {
   "codemirror_mode": {
    "name": "ipython",
    "version": 3
   },
   "file_extension": ".py",
   "mimetype": "text/x-python",
   "name": "python",
   "nbconvert_exporter": "python",
   "pygments_lexer": "ipython3",
   "version": "3.6.7"
  }
 },
 "nbformat": 4,
 "nbformat_minor": 2
}
